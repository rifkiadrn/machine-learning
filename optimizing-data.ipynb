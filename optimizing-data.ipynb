{
 "cells": [
  {
   "cell_type": "code",
   "execution_count": 11,
   "metadata": {
    "collapsed": true
   },
   "outputs": [],
   "source": [
    "from cart import DecisionTreeCART\n",
    "import numpy as np\n",
    "import pandas as pd"
   ]
  },
  {
   "cell_type": "code",
   "execution_count": 12,
   "metadata": {
    "collapsed": true
   },
   "outputs": [],
   "source": [
    "borrower_df = pd.read_csv('data/Borrower.csv')\n",
    "loan_df = pd.read_csv('data/Loan.csv')\n",
    "\n",
    "loan_feature = loan_df[['loanId', 'memberId', 'isJointApplication',\n",
    "                        'loanAmount', 'term', 'interestRate',\n",
    "                        'monthlyPayment', 'grade', 'loanStatus']]\n",
    "loan_feature.set_index('loanId')\n",
    "\n",
    "borrower_feature = borrower_df[['memberId', 'yearsEmployment',\n",
    "                                'homeOwnership', 'annualIncome',\n",
    "                                'dtiRatio', 'lengthCreditHistory',\n",
    "                                'numTotalCreditLines',\n",
    "                                'numOpenCreditLines',\n",
    "                                'numOpenCreditLines1Year',\n",
    "                                'revolvingBalance',\n",
    "                                'revolvingUtilizationRate',\n",
    "                                'numDerogatoryRec',\n",
    "                                'numDelinquency2Years',\n",
    "                                'numChargeoff1year',\n",
    "                                'numInquiries6Mon']]\n",
    "borrower_feature.set_index('memberId')\n",
    "\n",
    "merged_df = pd.merge(borrower_feature, loan_feature, on='memberId')\n",
    "merged_df.sort_values(['memberId', 'loanId'], ascending=True)\n",
    "merged_df = merged_df.set_index(['loanId', 'memberId'])\n",
    "\n",
    "mode_jointapp = merged_df.isJointApplication.mode()[0]\n",
    "mean_loan = round(merged_df.loanAmount.mean())\n",
    "mode_term = merged_df.term.mode()[0]\n",
    "mean_numopen = round(merged_df.numOpenCreditLines.mean())\n",
    "\n",
    "merged_df[[\"isJointApplication\"]] = merged_df[[\n",
    "    \"isJointApplication\"]].fillna(value=mode_jointapp)\n",
    "merged_df[[\"loanAmount\"]] = merged_df[[\n",
    "    \"loanAmount\"]].fillna(value=mean_loan)\n",
    "merged_df[[\"term\"]] = merged_df[[\"term\"]].fillna(value=mode_term)\n",
    "merged_df[[\"numOpenCreditLines\"]] = merged_df[[\n",
    "    \"numOpenCreditLines\"]].fillna(value=mean_numopen)"
   ]
  },
  {
   "cell_type": "code",
   "execution_count": 13,
   "metadata": {
    "collapsed": true
   },
   "outputs": [],
   "source": [
    "replace_dict = {\n",
    "    'yearsEmployment': {\n",
    "        '< 1 year': 0.5,\n",
    "        '1 year': 1,\n",
    "        '2-5 years': 3,\n",
    "        '6-9 years': 8,\n",
    "        '10+ years': 12,\n",
    "    },\n",
    "    'homeOwnership': {\n",
    "        'rent': 0,\n",
    "        'mortgage': 1,\n",
    "        'own': 2,\n",
    "    },\n",
    "    'loanStatus': {\n",
    "        'Default': 0,\n",
    "        'Current': 1,\n",
    "    },\n",
    "    'term': {\n",
    "        '60 months': 60,\n",
    "        '48 months': 48,\n",
    "        '36 months': 36,\n",
    "    },\n",
    "    'grade': {\n",
    "        'A1': 1,\n",
    "        'A2': 2,\n",
    "        'A3': 3,\n",
    "        'B1': 4,\n",
    "        'B2': 5,\n",
    "        'B3': 6,\n",
    "        'C1': 7,\n",
    "        'C2': 8,\n",
    "        'C3': 9,\n",
    "        'D1': 10,\n",
    "        'D2': 11,\n",
    "        'D3': 12,\n",
    "        'E1': 13,\n",
    "        'E2': 14,\n",
    "        'E3': 15,\n",
    "    }\n",
    "}\n",
    "\n",
    "cleaned_df = merged_df.replace(replace_dict)\n",
    "cleaned_df.to_csv('data/loan_cleaned_unbalanced')"
   ]
  },
  {
   "cell_type": "code",
   "execution_count": 14,
   "metadata": {
    "collapsed": true
   },
   "outputs": [],
   "source": [
    "class_yes = cleaned_df[cleaned_df['loanStatus'] == 1]\n",
    "class_no = cleaned_df[cleaned_df['loanStatus'] == 0]\n",
    "\n",
    "n = round(len(class_no) * 1.5)\n",
    "balanced_df = class_no.append(class_yes.sample(n))\n",
    "balanced_df.to_csv('data/loan_cleaned_balanced_under_sampling.csv')"
   ]
  },
  {
   "cell_type": "code",
   "execution_count": 18,
   "metadata": {},
   "outputs": [],
   "source": [
    "class_yes = cleaned_df[cleaned_df['loanStatus'] == 1]\n",
    "class_no = cleaned_df[cleaned_df['loanStatus'] == 0]\n",
    "\n",
    "n = round(len(class_yes) / len(class_no))\n",
    "over_sampling_df = class_yes.append(class_no)\n",
    "\n",
    "for i in range(n-2):\n",
    "    over_sampling_df = over_sampling_df.append(class_no)\n",
    "\n",
    "over_sampling_df.to_csv('data/loan_cleaned_balanced_over_sampling.csv')"
   ]
  },
  {
   "cell_type": "code",
   "execution_count": 6,
   "metadata": {},
   "outputs": [],
   "source": [
    "train_size = round(0.9 * len(balanced_df))\n",
    "dataset_np = balanced_df.sample(1000).values\n",
    "np.random.shuffle(dataset_np)\n",
    "train_np, test_np = dataset_np[:train_size,:], dataset_np[train_size:,:]\n",
    "\n",
    "\n",
    "# train_df = balanced_df.sample(10000)\n",
    "# train_np = np.array(train_df.values)\n",
    "# test_np = np.array(balanced_df.sample(1000).values)\n",
    "\n",
    "X_train = train_np[:, :-1]\n",
    "y_train = train_np[:, len(train_np[0]) - 1]\n",
    "\n",
    "X_test = test_np[:, :-1]\n",
    "y_test = test_np[:, len(train_np[0]) - 1]"
   ]
  },
  {
   "cell_type": "code",
   "execution_count": 7,
   "metadata": {
    "collapsed": true
   },
   "outputs": [],
   "source": [
    "clf = DecisionTreeCART()\n",
    "clf.fit(X_train, y_train, max_depth=20, min_size=10)\n",
    "\n",
    "predicted = clf.predict(X_test)"
   ]
  },
  {
   "cell_type": "code",
   "execution_count": 8,
   "metadata": {
    "collapsed": true
   },
   "outputs": [],
   "source": [
    "pred_true = 0\n",
    "tn = 0\n",
    "tp = 0\n",
    "fn = 0\n",
    "fp = 0\n",
    "for i in range(len(predicted)):\n",
    "    if predicted[i] == y_test[i]:\n",
    "        pred_true += 1\n",
    "        if y_test[i] == 0:\n",
    "            tn += 1\n",
    "        else:\n",
    "            tp += 1\n",
    "    else:\n",
    "        if y_test[i] == 1:\n",
    "            fn += 1\n",
    "        else:\n",
    "            fp += 1"
   ]
  },
  {
   "cell_type": "code",
   "execution_count": 10,
   "metadata": {},
   "outputs": [
    {
     "ename": "ZeroDivisionError",
     "evalue": "division by zero",
     "output_type": "error",
     "traceback": [
      "\u001b[0;31m---------------------------------------------------------------------------\u001b[0m",
      "\u001b[0;31mZeroDivisionError\u001b[0m                         Traceback (most recent call last)",
      "\u001b[0;32m<ipython-input-10-89f818280818>\u001b[0m in \u001b[0;36m<module>\u001b[0;34m()\u001b[0m\n\u001b[1;32m      1\u001b[0m \u001b[0;31m# precision = tp / (tp + fp)\u001b[0m\u001b[0;34m\u001b[0m\u001b[0;34m\u001b[0m\u001b[0m\n\u001b[0;32m----> 2\u001b[0;31m \u001b[0mrecall\u001b[0m \u001b[0;34m=\u001b[0m \u001b[0mtp\u001b[0m \u001b[0;34m/\u001b[0m \u001b[0;34m(\u001b[0m\u001b[0mtp\u001b[0m \u001b[0;34m+\u001b[0m \u001b[0mfn\u001b[0m\u001b[0;34m)\u001b[0m\u001b[0;34m\u001b[0m\u001b[0m\n\u001b[0m\u001b[1;32m      3\u001b[0m \u001b[0mf1\u001b[0m \u001b[0;34m=\u001b[0m \u001b[0;36m2\u001b[0m \u001b[0;34m*\u001b[0m \u001b[0;34m(\u001b[0m\u001b[0mprecision\u001b[0m \u001b[0;34m*\u001b[0m \u001b[0mrecall\u001b[0m\u001b[0;34m)\u001b[0m \u001b[0;34m/\u001b[0m \u001b[0;34m(\u001b[0m\u001b[0mprecision\u001b[0m \u001b[0;34m+\u001b[0m \u001b[0mrecall\u001b[0m\u001b[0;34m)\u001b[0m\u001b[0;34m\u001b[0m\u001b[0m\n\u001b[1;32m      4\u001b[0m \u001b[0;34m\u001b[0m\u001b[0m\n\u001b[1;32m      5\u001b[0m \u001b[0mprint\u001b[0m\u001b[0;34m(\u001b[0m\u001b[0;34m'Predicted True = '\u001b[0m \u001b[0;34m+\u001b[0m \u001b[0mstr\u001b[0m\u001b[0;34m(\u001b[0m\u001b[0mpred_true\u001b[0m\u001b[0;34m)\u001b[0m \u001b[0;34m+\u001b[0m \u001b[0;34m' out of '\u001b[0m \u001b[0;34m+\u001b[0m \u001b[0mstr\u001b[0m\u001b[0;34m(\u001b[0m\u001b[0mlen\u001b[0m\u001b[0;34m(\u001b[0m\u001b[0my_test\u001b[0m\u001b[0;34m)\u001b[0m\u001b[0;34m)\u001b[0m\u001b[0;34m)\u001b[0m\u001b[0;34m\u001b[0m\u001b[0m\n",
      "\u001b[0;31mZeroDivisionError\u001b[0m: division by zero"
     ]
    }
   ],
   "source": [
    "precision = tp / (tp + fp)\n",
    "recall = tp / (tp + fn)\n",
    "f1 = 2 * (precision * recall) / (precision + recall)\n",
    "\n",
    "print('Predicted True = ' + str(pred_true) + ' out of ' + str(len(y_test)))\n",
    "print('Precision      = ', precision)\n",
    "print('Recall         = ', recall)\n",
    "print('True Positive  = ', tp)\n",
    "print('True Negative  = ', tn)\n",
    "print('False Positive = ', fp)\n",
    "print('False Negative = ', fn)\n",
    "print('F1 Score       = ', f1)"
   ]
  },
  {
   "cell_type": "code",
   "execution_count": null,
   "metadata": {
    "collapsed": true
   },
   "outputs": [],
   "source": []
  }
 ],
 "metadata": {
  "kernelspec": {
   "display_name": "Python 3",
   "language": "python",
   "name": "python3"
  },
  "language_info": {
   "codemirror_mode": {
    "name": "ipython",
    "version": 3
   },
   "file_extension": ".py",
   "mimetype": "text/x-python",
   "name": "python",
   "nbconvert_exporter": "python",
   "pygments_lexer": "ipython3",
   "version": "3.6.5"
  }
 },
 "nbformat": 4,
 "nbformat_minor": 2
}
