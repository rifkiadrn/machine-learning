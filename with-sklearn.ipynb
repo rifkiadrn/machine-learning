{
 "cells": [
  {
   "cell_type": "code",
   "execution_count": 1,
   "metadata": {
    "collapsed": true
   },
   "outputs": [],
   "source": [
    "import pandas as pd\n",
    "import numpy as np\n",
    "from sklearn.tree import DecisionTreeClassifier, export_graphviz\n",
    "from sklearn.model_selection import train_test_split\n",
    "from sklearn.metrics import confusion_matrix, accuracy_score, f1_score\n",
    "from sklearn import preprocessing\n",
    "from matplotlib import pyplot as plt"
   ]
  },
  {
   "cell_type": "markdown",
   "metadata": {},
   "source": [
    "# Unbalanced Data"
   ]
  },
  {
   "cell_type": "code",
   "execution_count": 11,
   "metadata": {},
   "outputs": [
    {
     "data": {
      "text/html": [
       "<div>\n",
       "<style scoped>\n",
       "    .dataframe tbody tr th:only-of-type {\n",
       "        vertical-align: middle;\n",
       "    }\n",
       "\n",
       "    .dataframe tbody tr th {\n",
       "        vertical-align: top;\n",
       "    }\n",
       "\n",
       "    .dataframe thead th {\n",
       "        text-align: right;\n",
       "    }\n",
       "</style>\n",
       "<table border=\"1\" class=\"dataframe\">\n",
       "  <thead>\n",
       "    <tr style=\"text-align: right;\">\n",
       "      <th></th>\n",
       "      <th>loanId</th>\n",
       "      <th>memberId</th>\n",
       "      <th>yearsEmployment</th>\n",
       "      <th>homeOwnership</th>\n",
       "      <th>annualIncome</th>\n",
       "      <th>dtiRatio</th>\n",
       "      <th>lengthCreditHistory</th>\n",
       "      <th>numTotalCreditLines</th>\n",
       "      <th>numOpenCreditLines</th>\n",
       "      <th>numOpenCreditLines1Year</th>\n",
       "      <th>...</th>\n",
       "      <th>numDelinquency2Years</th>\n",
       "      <th>numChargeoff1year</th>\n",
       "      <th>numInquiries6Mon</th>\n",
       "      <th>isJointApplication</th>\n",
       "      <th>loanAmount</th>\n",
       "      <th>term</th>\n",
       "      <th>interestRate</th>\n",
       "      <th>monthlyPayment</th>\n",
       "      <th>grade</th>\n",
       "      <th>loanStatus</th>\n",
       "    </tr>\n",
       "  </thead>\n",
       "  <tbody>\n",
       "    <tr>\n",
       "      <th>0</th>\n",
       "      <td>1888978</td>\n",
       "      <td>2305095</td>\n",
       "      <td>12.0</td>\n",
       "      <td>0</td>\n",
       "      <td>56471</td>\n",
       "      <td>16.80</td>\n",
       "      <td>6</td>\n",
       "      <td>11</td>\n",
       "      <td>9.0</td>\n",
       "      <td>6</td>\n",
       "      <td>...</td>\n",
       "      <td>19</td>\n",
       "      <td>10</td>\n",
       "      <td>0</td>\n",
       "      <td>0.0</td>\n",
       "      <td>25190.0</td>\n",
       "      <td>60</td>\n",
       "      <td>6.25</td>\n",
       "      <td>490</td>\n",
       "      <td>15</td>\n",
       "      <td>1</td>\n",
       "    </tr>\n",
       "    <tr>\n",
       "      <th>1</th>\n",
       "      <td>1299695</td>\n",
       "      <td>2610493</td>\n",
       "      <td>3.0</td>\n",
       "      <td>0</td>\n",
       "      <td>55038</td>\n",
       "      <td>19.99</td>\n",
       "      <td>22</td>\n",
       "      <td>8</td>\n",
       "      <td>7.0</td>\n",
       "      <td>4</td>\n",
       "      <td>...</td>\n",
       "      <td>0</td>\n",
       "      <td>0</td>\n",
       "      <td>0</td>\n",
       "      <td>0.0</td>\n",
       "      <td>21189.0</td>\n",
       "      <td>60</td>\n",
       "      <td>10.49</td>\n",
       "      <td>455</td>\n",
       "      <td>6</td>\n",
       "      <td>1</td>\n",
       "    </tr>\n",
       "    <tr>\n",
       "      <th>2</th>\n",
       "      <td>1875016</td>\n",
       "      <td>2491679</td>\n",
       "      <td>0.5</td>\n",
       "      <td>0</td>\n",
       "      <td>56610</td>\n",
       "      <td>14.33</td>\n",
       "      <td>5</td>\n",
       "      <td>8</td>\n",
       "      <td>5.0</td>\n",
       "      <td>5</td>\n",
       "      <td>...</td>\n",
       "      <td>1</td>\n",
       "      <td>1</td>\n",
       "      <td>0</td>\n",
       "      <td>0.0</td>\n",
       "      <td>29908.0</td>\n",
       "      <td>60</td>\n",
       "      <td>9.11</td>\n",
       "      <td>622</td>\n",
       "      <td>5</td>\n",
       "      <td>1</td>\n",
       "    </tr>\n",
       "    <tr>\n",
       "      <th>3</th>\n",
       "      <td>1440478</td>\n",
       "      <td>2092798</td>\n",
       "      <td>8.0</td>\n",
       "      <td>2</td>\n",
       "      <td>54887</td>\n",
       "      <td>14.80</td>\n",
       "      <td>12</td>\n",
       "      <td>14</td>\n",
       "      <td>7.0</td>\n",
       "      <td>3</td>\n",
       "      <td>...</td>\n",
       "      <td>0</td>\n",
       "      <td>0</td>\n",
       "      <td>3</td>\n",
       "      <td>0.0</td>\n",
       "      <td>13053.0</td>\n",
       "      <td>48</td>\n",
       "      <td>11.89</td>\n",
       "      <td>343</td>\n",
       "      <td>6</td>\n",
       "      <td>1</td>\n",
       "    </tr>\n",
       "    <tr>\n",
       "      <th>4</th>\n",
       "      <td>1124634</td>\n",
       "      <td>2633077</td>\n",
       "      <td>3.0</td>\n",
       "      <td>0</td>\n",
       "      <td>53522</td>\n",
       "      <td>10.14</td>\n",
       "      <td>4</td>\n",
       "      <td>21</td>\n",
       "      <td>19.0</td>\n",
       "      <td>10</td>\n",
       "      <td>...</td>\n",
       "      <td>14</td>\n",
       "      <td>7</td>\n",
       "      <td>1</td>\n",
       "      <td>0.0</td>\n",
       "      <td>24613.0</td>\n",
       "      <td>60</td>\n",
       "      <td>15.13</td>\n",
       "      <td>587</td>\n",
       "      <td>3</td>\n",
       "      <td>1</td>\n",
       "    </tr>\n",
       "  </tbody>\n",
       "</table>\n",
       "<p>5 rows × 23 columns</p>\n",
       "</div>"
      ],
      "text/plain": [
       "    loanId  memberId  yearsEmployment  homeOwnership  annualIncome  dtiRatio  \\\n",
       "0  1888978   2305095             12.0              0         56471     16.80   \n",
       "1  1299695   2610493              3.0              0         55038     19.99   \n",
       "2  1875016   2491679              0.5              0         56610     14.33   \n",
       "3  1440478   2092798              8.0              2         54887     14.80   \n",
       "4  1124634   2633077              3.0              0         53522     10.14   \n",
       "\n",
       "   lengthCreditHistory  numTotalCreditLines  numOpenCreditLines  \\\n",
       "0                    6                   11                 9.0   \n",
       "1                   22                    8                 7.0   \n",
       "2                    5                    8                 5.0   \n",
       "3                   12                   14                 7.0   \n",
       "4                    4                   21                19.0   \n",
       "\n",
       "   numOpenCreditLines1Year     ...      numDelinquency2Years  \\\n",
       "0                        6     ...                        19   \n",
       "1                        4     ...                         0   \n",
       "2                        5     ...                         1   \n",
       "3                        3     ...                         0   \n",
       "4                       10     ...                        14   \n",
       "\n",
       "   numChargeoff1year  numInquiries6Mon  isJointApplication  loanAmount  term  \\\n",
       "0                 10                 0                 0.0     25190.0    60   \n",
       "1                  0                 0                 0.0     21189.0    60   \n",
       "2                  1                 0                 0.0     29908.0    60   \n",
       "3                  0                 3                 0.0     13053.0    48   \n",
       "4                  7                 1                 0.0     24613.0    60   \n",
       "\n",
       "   interestRate  monthlyPayment  grade  loanStatus  \n",
       "0          6.25             490     15           1  \n",
       "1         10.49             455      6           1  \n",
       "2          9.11             622      5           1  \n",
       "3         11.89             343      6           1  \n",
       "4         15.13             587      3           1  \n",
       "\n",
       "[5 rows x 23 columns]"
      ]
     },
     "execution_count": 11,
     "metadata": {},
     "output_type": "execute_result"
    }
   ],
   "source": [
    "dataset_df = pd.read_csv('data/loan_cleaned_unbalanced.csv').set_index(['loanId', 'memberId'])\n",
    "dataset_df.head()"
   ]
  },
  {
   "cell_type": "code",
   "execution_count": 12,
   "metadata": {},
   "outputs": [],
   "source": [
    "train_size = round(0.7 * len(dataset_df))\n",
    "dataset_np = dataset_df.values\n",
    "np.random.shuffle(dataset_np)\n",
    "train_np, test_np = dataset_np[:train_size,:], dataset_np[train_size:,:]\n",
    "\n",
    "X_train = train_np[:, :-1]\n",
    "y_train = train_np[:, len(train_np[0]) - 1]\n",
    "\n",
    "X_test = test_np[:, :-1]\n",
    "y_test = test_np[:, len(train_np[0]) - 1]"
   ]
  },
  {
   "cell_type": "code",
   "execution_count": 13,
   "metadata": {},
   "outputs": [
    {
     "data": {
      "text/plain": [
       "DecisionTreeClassifier(class_weight=None, criterion='gini', max_depth=10,\n",
       "            max_features=None, max_leaf_nodes=None,\n",
       "            min_impurity_decrease=0.0, min_impurity_split=None,\n",
       "            min_samples_leaf=1, min_samples_split=2,\n",
       "            min_weight_fraction_leaf=0.0, presort=False, random_state=None,\n",
       "            splitter='best')"
      ]
     },
     "execution_count": 13,
     "metadata": {},
     "output_type": "execute_result"
    }
   ],
   "source": [
    "clf = DecisionTreeClassifier(max_depth=10)\n",
    "clf.fit(X_train, y_train)"
   ]
  },
  {
   "cell_type": "code",
   "execution_count": 14,
   "metadata": {},
   "outputs": [
    {
     "name": "stdout",
     "output_type": "stream",
     "text": [
      "Akurasi TANPA class balancing:  91.97666666666666 %\n"
     ]
    }
   ],
   "source": [
    "y_pred = clf.predict(X_test)\n",
    "accuracy = accuracy_score(y_test, y_pred)*100\n",
    "print(\"Akurasi TANPA class balancing: \", accuracy,\"%\")"
   ]
  },
  {
   "cell_type": "code",
   "execution_count": 15,
   "metadata": {},
   "outputs": [
    {
     "name": "stdout",
     "output_type": "stream",
     "text": [
      "True Positive  =  26372\n",
      "True Negative  =  1221\n",
      "False Positive =  1782\n",
      "False Negative =  625\n",
      "F1 Score =  0.9563561857445921\n"
     ]
    }
   ],
   "source": [
    "tn, fp, fn, tp = confusion_matrix(y_test, y_pred).ravel()\n",
    "f1 = f1_score(y_test, y_pred)\n",
    "print('True Positive  = ', tp)\n",
    "print('True Negative  = ', tn)\n",
    "print('False Positive = ', fp)\n",
    "print('False Negative = ', fn)\n",
    "print('F1 Score = ', f1)"
   ]
  },
  {
   "cell_type": "code",
   "execution_count": 16,
   "metadata": {},
   "outputs": [],
   "source": [
    "depth_range = range(2, 51)\n",
    "f1_scores = []\n",
    "accuracy_scores = []\n",
    "\n",
    "for d in depth_range:\n",
    "    clf = DecisionTreeClassifier(max_depth=d)\n",
    "    clf.fit(X_train, y_train)\n",
    "    y_pred = clf.predict(X_test)\n",
    "    \n",
    "    accuracy = accuracy_score(y_test, y_pred)\n",
    "    f1 = f1_score(y_test, y_pred)\n",
    "    \n",
    "    f1_scores.append(f1)\n",
    "    accuracy_scores.append(accuracy)"
   ]
  },
  {
   "cell_type": "code",
   "execution_count": 17,
   "metadata": {},
   "outputs": [
    {
     "name": "stdout",
     "output_type": "stream",
     "text": [
      "F1 Max = 0.9581696991533057 at Max Depth = 6\n",
      "Accuracy Max = 0.9226 at Max Depth = 6\n"
     ]
    }
   ],
   "source": [
    "f1_max = max(f1_scores)\n",
    "f1_max_idx = f1_scores.index(f1_max)\n",
    "\n",
    "acc_max = max(accuracy_scores)\n",
    "acc_max_idx = accuracy_scores.index(acc_max)\n",
    "\n",
    "print('F1 Max = {} at Max Depth = {}'.format(f1_max, f1_max_idx+2))\n",
    "print('Accuracy Max = {} at Max Depth = {}'.format(acc_max, acc_max_idx+2))"
   ]
  },
  {
   "cell_type": "code",
   "execution_count": 18,
   "metadata": {},
   "outputs": [
    {
     "data": {
      "image/png": "[encoded data removed]",
      "text/plain": [
       "<matplotlib.figure.Figure at 0x109272da0>"
      ]
     },
     "metadata": {},
     "output_type": "display_data"
    }
   ],
   "source": [
    "plt.plot(depth_range, accuracy_scores)\n",
    "plt.xlabel('Max Depth')\n",
    "plt.ylabel('Accuracy')\n",
    "plt.grid(True)\n",
    "plt.show()"
   ]
  },
  {
   "cell_type": "code",
   "execution_count": 19,
   "metadata": {},
   "outputs": [
    {
     "data": {
      "image/png": "[encoded data removed]",
      "text/plain": [
       "<matplotlib.figure.Figure at 0x109252780>"
      ]
     },
     "metadata": {},
     "output_type": "display_data"
    }
   ],
   "source": [
    "plt.plot(depth_range, f1_scores)\n",
    "plt.xlabel('Max Depth')\n",
    "plt.ylabel('F1 Score')\n",
    "plt.grid(True)\n",
    "plt.show()"
   ]
  },
  {
   "cell_type": "markdown",
   "metadata": {},
   "source": [
    "# Balanced Data Under Sampling"
   ]
  },
  {
   "cell_type": "code",
   "execution_count": 20,
   "metadata": {},
   "outputs": [
    {
     "data": {
      "text/html": [
       "<div>\n",
       "<style scoped>\n",
       "    .dataframe tbody tr th:only-of-type {\n",
       "        vertical-align: middle;\n",
       "    }\n",
       "\n",
       "    .dataframe tbody tr th {\n",
       "        vertical-align: top;\n",
       "    }\n",
       "\n",
       "    .dataframe thead th {\n",
       "        text-align: right;\n",
       "    }\n",
       "</style>\n",
       "<table border=\"1\" class=\"dataframe\">\n",
       "  <thead>\n",
       "    <tr style=\"text-align: right;\">\n",
       "      <th></th>\n",
       "      <th></th>\n",
       "      <th>yearsEmployment</th>\n",
       "      <th>homeOwnership</th>\n",
       "      <th>annualIncome</th>\n",
       "      <th>dtiRatio</th>\n",
       "      <th>lengthCreditHistory</th>\n",
       "      <th>numTotalCreditLines</th>\n",
       "      <th>numOpenCreditLines</th>\n",
       "      <th>numOpenCreditLines1Year</th>\n",
       "      <th>revolvingBalance</th>\n",
       "      <th>revolvingUtilizationRate</th>\n",
       "      <th>...</th>\n",
       "      <th>numDelinquency2Years</th>\n",
       "      <th>numChargeoff1year</th>\n",
       "      <th>numInquiries6Mon</th>\n",
       "      <th>isJointApplication</th>\n",
       "      <th>loanAmount</th>\n",
       "      <th>term</th>\n",
       "      <th>interestRate</th>\n",
       "      <th>monthlyPayment</th>\n",
       "      <th>grade</th>\n",
       "      <th>loanStatus</th>\n",
       "    </tr>\n",
       "    <tr>\n",
       "      <th>loanId</th>\n",
       "      <th>memberId</th>\n",
       "      <th></th>\n",
       "      <th></th>\n",
       "      <th></th>\n",
       "      <th></th>\n",
       "      <th></th>\n",
       "      <th></th>\n",
       "      <th></th>\n",
       "      <th></th>\n",
       "      <th></th>\n",
       "      <th></th>\n",
       "      <th></th>\n",
       "      <th></th>\n",
       "      <th></th>\n",
       "      <th></th>\n",
       "      <th></th>\n",
       "      <th></th>\n",
       "      <th></th>\n",
       "      <th></th>\n",
       "      <th></th>\n",
       "      <th></th>\n",
       "      <th></th>\n",
       "    </tr>\n",
       "  </thead>\n",
       "  <tbody>\n",
       "    <tr>\n",
       "      <th>1821279</th>\n",
       "      <th>2124878</th>\n",
       "      <td>1.0</td>\n",
       "      <td>1</td>\n",
       "      <td>47946</td>\n",
       "      <td>27.06</td>\n",
       "      <td>9</td>\n",
       "      <td>9</td>\n",
       "      <td>5.0</td>\n",
       "      <td>5</td>\n",
       "      <td>14027</td>\n",
       "      <td>75.35</td>\n",
       "      <td>...</td>\n",
       "      <td>0</td>\n",
       "      <td>0</td>\n",
       "      <td>1</td>\n",
       "      <td>0.0</td>\n",
       "      <td>17101.0</td>\n",
       "      <td>60</td>\n",
       "      <td>18.01</td>\n",
       "      <td>434</td>\n",
       "      <td>12</td>\n",
       "      <td>0</td>\n",
       "    </tr>\n",
       "    <tr>\n",
       "      <th>1891878</th>\n",
       "      <th>2248022</th>\n",
       "      <td>0.5</td>\n",
       "      <td>1</td>\n",
       "      <td>51844</td>\n",
       "      <td>21.72</td>\n",
       "      <td>10</td>\n",
       "      <td>17</td>\n",
       "      <td>15.0</td>\n",
       "      <td>11</td>\n",
       "      <td>12544</td>\n",
       "      <td>77.54</td>\n",
       "      <td>...</td>\n",
       "      <td>0</td>\n",
       "      <td>0</td>\n",
       "      <td>0</td>\n",
       "      <td>0.0</td>\n",
       "      <td>23785.0</td>\n",
       "      <td>36</td>\n",
       "      <td>13.10</td>\n",
       "      <td>803</td>\n",
       "      <td>6</td>\n",
       "      <td>0</td>\n",
       "    </tr>\n",
       "    <tr>\n",
       "      <th>1267133</th>\n",
       "      <th>2876501</th>\n",
       "      <td>0.5</td>\n",
       "      <td>0</td>\n",
       "      <td>54799</td>\n",
       "      <td>22.16</td>\n",
       "      <td>3</td>\n",
       "      <td>15</td>\n",
       "      <td>11.0</td>\n",
       "      <td>10</td>\n",
       "      <td>13012</td>\n",
       "      <td>83.94</td>\n",
       "      <td>...</td>\n",
       "      <td>0</td>\n",
       "      <td>0</td>\n",
       "      <td>2</td>\n",
       "      <td>0.0</td>\n",
       "      <td>14246.0</td>\n",
       "      <td>48</td>\n",
       "      <td>14.93</td>\n",
       "      <td>396</td>\n",
       "      <td>15</td>\n",
       "      <td>0</td>\n",
       "    </tr>\n",
       "    <tr>\n",
       "      <th>1374863</th>\n",
       "      <th>2027352</th>\n",
       "      <td>8.0</td>\n",
       "      <td>2</td>\n",
       "      <td>52317</td>\n",
       "      <td>12.69</td>\n",
       "      <td>37</td>\n",
       "      <td>10</td>\n",
       "      <td>7.0</td>\n",
       "      <td>6</td>\n",
       "      <td>16751</td>\n",
       "      <td>77.44</td>\n",
       "      <td>...</td>\n",
       "      <td>11</td>\n",
       "      <td>11</td>\n",
       "      <td>3</td>\n",
       "      <td>0.0</td>\n",
       "      <td>17298.0</td>\n",
       "      <td>48</td>\n",
       "      <td>7.07</td>\n",
       "      <td>415</td>\n",
       "      <td>7</td>\n",
       "      <td>0</td>\n",
       "    </tr>\n",
       "    <tr>\n",
       "      <th>1679646</th>\n",
       "      <th>2486530</th>\n",
       "      <td>1.0</td>\n",
       "      <td>1</td>\n",
       "      <td>53036</td>\n",
       "      <td>24.30</td>\n",
       "      <td>4</td>\n",
       "      <td>21</td>\n",
       "      <td>19.0</td>\n",
       "      <td>10</td>\n",
       "      <td>12349</td>\n",
       "      <td>100.00</td>\n",
       "      <td>...</td>\n",
       "      <td>0</td>\n",
       "      <td>0</td>\n",
       "      <td>0</td>\n",
       "      <td>0.0</td>\n",
       "      <td>23014.0</td>\n",
       "      <td>36</td>\n",
       "      <td>9.00</td>\n",
       "      <td>732</td>\n",
       "      <td>13</td>\n",
       "      <td>0</td>\n",
       "    </tr>\n",
       "  </tbody>\n",
       "</table>\n",
       "<p>5 rows × 21 columns</p>\n",
       "</div>"
      ],
      "text/plain": [
       "                  yearsEmployment  homeOwnership  annualIncome  dtiRatio  \\\n",
       "loanId  memberId                                                           \n",
       "1821279 2124878               1.0              1         47946     27.06   \n",
       "1891878 2248022               0.5              1         51844     21.72   \n",
       "1267133 2876501               0.5              0         54799     22.16   \n",
       "1374863 2027352               8.0              2         52317     12.69   \n",
       "1679646 2486530               1.0              1         53036     24.30   \n",
       "\n",
       "                  lengthCreditHistory  numTotalCreditLines  \\\n",
       "loanId  memberId                                             \n",
       "1821279 2124878                     9                    9   \n",
       "1891878 2248022                    10                   17   \n",
       "1267133 2876501                     3                   15   \n",
       "1374863 2027352                    37                   10   \n",
       "1679646 2486530                     4                   21   \n",
       "\n",
       "                  numOpenCreditLines  numOpenCreditLines1Year  \\\n",
       "loanId  memberId                                                \n",
       "1821279 2124878                  5.0                        5   \n",
       "1891878 2248022                 15.0                       11   \n",
       "1267133 2876501                 11.0                       10   \n",
       "1374863 2027352                  7.0                        6   \n",
       "1679646 2486530                 19.0                       10   \n",
       "\n",
       "                  revolvingBalance  revolvingUtilizationRate     ...      \\\n",
       "loanId  memberId                                                 ...       \n",
       "1821279 2124878              14027                     75.35     ...       \n",
       "1891878 2248022              12544                     77.54     ...       \n",
       "1267133 2876501              13012                     83.94     ...       \n",
       "1374863 2027352              16751                     77.44     ...       \n",
       "1679646 2486530              12349                    100.00     ...       \n",
       "\n",
       "                  numDelinquency2Years  numChargeoff1year  numInquiries6Mon  \\\n",
       "loanId  memberId                                                              \n",
       "1821279 2124878                      0                  0                 1   \n",
       "1891878 2248022                      0                  0                 0   \n",
       "1267133 2876501                      0                  0                 2   \n",
       "1374863 2027352                     11                 11                 3   \n",
       "1679646 2486530                      0                  0                 0   \n",
       "\n",
       "                  isJointApplication  loanAmount  term  interestRate  \\\n",
       "loanId  memberId                                                       \n",
       "1821279 2124878                  0.0     17101.0    60         18.01   \n",
       "1891878 2248022                  0.0     23785.0    36         13.10   \n",
       "1267133 2876501                  0.0     14246.0    48         14.93   \n",
       "1374863 2027352                  0.0     17298.0    48          7.07   \n",
       "1679646 2486530                  0.0     23014.0    36          9.00   \n",
       "\n",
       "                  monthlyPayment  grade  loanStatus  \n",
       "loanId  memberId                                     \n",
       "1821279 2124878              434     12           0  \n",
       "1891878 2248022              803      6           0  \n",
       "1267133 2876501              396     15           0  \n",
       "1374863 2027352              415      7           0  \n",
       "1679646 2486530              732     13           0  \n",
       "\n",
       "[5 rows x 21 columns]"
      ]
     },
     "execution_count": 20,
     "metadata": {},
     "output_type": "execute_result"
    }
   ],
   "source": [
    "dataset_df = pd.read_csv('data/loan_cleaned_balanced_under_sampling.csv').set_index(['loanId', 'memberId'])\n",
    "dataset_df.head()"
   ]
  },
  {
   "cell_type": "code",
   "execution_count": 21,
   "metadata": {
    "collapsed": true
   },
   "outputs": [],
   "source": [
    "train_size = round(0.7 * len(dataset_df))\n",
    "dataset_np = dataset_df.values\n",
    "np.random.shuffle(dataset_np)\n",
    "train_np, test_np = dataset_np[:train_size,:], dataset_np[train_size:,:]\n",
    "\n",
    "X_train = train_np[:, :-1]\n",
    "y_train = train_np[:, len(train_np[0]) - 1]\n",
    "\n",
    "X_test = test_np[:, :-1]\n",
    "y_test = test_np[:, len(train_np[0]) - 1]"
   ]
  },
  {
   "cell_type": "code",
   "execution_count": 22,
   "metadata": {},
   "outputs": [
    {
     "data": {
      "text/plain": [
       "DecisionTreeClassifier(class_weight=None, criterion='gini', max_depth=10,\n",
       "            max_features=None, max_leaf_nodes=None,\n",
       "            min_impurity_decrease=0.0, min_impurity_split=None,\n",
       "            min_samples_leaf=1, min_samples_split=2,\n",
       "            min_weight_fraction_leaf=0.0, presort=False, random_state=None,\n",
       "            splitter='best')"
      ]
     },
     "execution_count": 22,
     "metadata": {},
     "output_type": "execute_result"
    }
   ],
   "source": [
    "clf = DecisionTreeClassifier(max_depth=10)\n",
    "clf.fit(X_train, y_train)"
   ]
  },
  {
   "cell_type": "code",
   "execution_count": 23,
   "metadata": {},
   "outputs": [
    {
     "name": "stdout",
     "output_type": "stream",
     "text": [
      "Akurasi dengn class balancing under sampling:  79.62148473943755 %\n"
     ]
    }
   ],
   "source": [
    "y_pred = clf.predict(X_test)\n",
    "accuracy = accuracy_score(y_test, y_pred)*100\n",
    "print(\"Akurasi dengn class balancing under sampling: \", accuracy,\"%\")"
   ]
  },
  {
   "cell_type": "code",
   "execution_count": 24,
   "metadata": {},
   "outputs": [
    {
     "name": "stdout",
     "output_type": "stream",
     "text": [
      "True Positive  =  3780\n",
      "True Negative  =  2194\n",
      "False Positive =  828\n",
      "False Negative =  701\n",
      "F1 Score =  0.831774672681263\n"
     ]
    }
   ],
   "source": [
    "tn, fp, fn, tp = confusion_matrix(y_test, y_pred).ravel()\n",
    "f1 = f1_score(y_test, y_pred)\n",
    "print('True Positive  = ', tp)\n",
    "print('True Negative  = ', tn)\n",
    "print('False Positive = ', fp)\n",
    "print('False Negative = ', fn)\n",
    "print('F1 Score = ', f1)"
   ]
  },
  {
   "cell_type": "code",
   "execution_count": 25,
   "metadata": {
    "collapsed": true
   },
   "outputs": [],
   "source": [
    "depth_range = range(2, 51)\n",
    "f1_scores = []\n",
    "accuracy_scores = []\n",
    "\n",
    "for d in depth_range:\n",
    "    clf = DecisionTreeClassifier(max_depth=d)\n",
    "    clf.fit(X_train, y_train)\n",
    "    y_pred = clf.predict(X_test)\n",
    "    \n",
    "    accuracy = accuracy_score(y_test, y_pred)\n",
    "    f1 = f1_score(y_test, y_pred)\n",
    "    \n",
    "    f1_scores.append(f1)\n",
    "    accuracy_scores.append(accuracy)"
   ]
  },
  {
   "cell_type": "code",
   "execution_count": 26,
   "metadata": {},
   "outputs": [
    {
     "name": "stdout",
     "output_type": "stream",
     "text": [
      "F1 Max = 0.8438198658575536 at Max Depth = 6\n",
      "Accuracy Max = 0.8044782087165134 at Max Depth = 6\n"
     ]
    }
   ],
   "source": [
    "f1_max = max(f1_scores)\n",
    "f1_max_idx = f1_scores.index(f1_max)\n",
    "\n",
    "acc_max = max(accuracy_scores)\n",
    "acc_max_idx = accuracy_scores.index(acc_max)\n",
    "\n",
    "print('F1 Max = {} at Max Depth = {}'.format(f1_max, f1_max_idx+2))\n",
    "print('Accuracy Max = {} at Max Depth = {}'.format(acc_max, acc_max_idx+2))"
   ]
  },
  {
   "cell_type": "code",
   "execution_count": 27,
   "metadata": {},
   "outputs": [
    {
     "data": {
      "image/png": "[encoded data removed]",
      "text/plain": [
       "<matplotlib.figure.Figure at 0x10e736908>"
      ]
     },
     "metadata": {},
     "output_type": "display_data"
    }
   ],
   "source": [
    "plt.plot(depth_range, accuracy_scores)\n",
    "plt.xlabel('Max Depth')\n",
    "plt.ylabel('Accuracy')\n",
    "plt.grid(True)\n",
    "plt.show()"
   ]
  },
  {
   "cell_type": "code",
   "execution_count": 28,
   "metadata": {},
   "outputs": [
    {
     "data": {
      "image/png": "[encoded data removed]",
      "text/plain": [
       "<matplotlib.figure.Figure at 0x10e77ea58>"
      ]
     },
     "metadata": {},
     "output_type": "display_data"
    }
   ],
   "source": [
    "plt.plot(depth_range, f1_scores)\n",
    "plt.xlabel('Max Depth')\n",
    "plt.ylabel('F1 Score')\n",
    "plt.grid(True)\n",
    "plt.show()"
   ]
  },
  {
   "cell_type": "markdown",
   "metadata": {},
   "source": [
    "# Balanced Data Over Sampling"
   ]
  },
  {
   "cell_type": "code",
   "execution_count": 2,
   "metadata": {},
   "outputs": [
    {
     "data": {
      "text/html": [
       "<div>\n",
       "<style scoped>\n",
       "    .dataframe tbody tr th:only-of-type {\n",
       "        vertical-align: middle;\n",
       "    }\n",
       "\n",
       "    .dataframe tbody tr th {\n",
       "        vertical-align: top;\n",
       "    }\n",
       "\n",
       "    .dataframe thead th {\n",
       "        text-align: right;\n",
       "    }\n",
       "</style>\n",
       "<table border=\"1\" class=\"dataframe\">\n",
       "  <thead>\n",
       "    <tr style=\"text-align: right;\">\n",
       "      <th></th>\n",
       "      <th>loanId</th>\n",
       "      <th>memberId</th>\n",
       "      <th>yearsEmployment</th>\n",
       "      <th>homeOwnership</th>\n",
       "      <th>annualIncome</th>\n",
       "      <th>dtiRatio</th>\n",
       "      <th>lengthCreditHistory</th>\n",
       "      <th>numTotalCreditLines</th>\n",
       "      <th>numOpenCreditLines</th>\n",
       "      <th>numOpenCreditLines1Year</th>\n",
       "      <th>...</th>\n",
       "      <th>numDelinquency2Years</th>\n",
       "      <th>numChargeoff1year</th>\n",
       "      <th>numInquiries6Mon</th>\n",
       "      <th>isJointApplication</th>\n",
       "      <th>loanAmount</th>\n",
       "      <th>term</th>\n",
       "      <th>interestRate</th>\n",
       "      <th>monthlyPayment</th>\n",
       "      <th>grade</th>\n",
       "      <th>loanStatus</th>\n",
       "    </tr>\n",
       "  </thead>\n",
       "  <tbody>\n",
       "    <tr>\n",
       "      <th>0</th>\n",
       "      <td>1888978</td>\n",
       "      <td>2305095</td>\n",
       "      <td>12.0</td>\n",
       "      <td>0</td>\n",
       "      <td>56471</td>\n",
       "      <td>16.80</td>\n",
       "      <td>6</td>\n",
       "      <td>11</td>\n",
       "      <td>9.0</td>\n",
       "      <td>6</td>\n",
       "      <td>...</td>\n",
       "      <td>19</td>\n",
       "      <td>10</td>\n",
       "      <td>0</td>\n",
       "      <td>0.0</td>\n",
       "      <td>25190.0</td>\n",
       "      <td>60</td>\n",
       "      <td>6.25</td>\n",
       "      <td>490</td>\n",
       "      <td>15</td>\n",
       "      <td>1</td>\n",
       "    </tr>\n",
       "    <tr>\n",
       "      <th>1</th>\n",
       "      <td>1299695</td>\n",
       "      <td>2610493</td>\n",
       "      <td>3.0</td>\n",
       "      <td>0</td>\n",
       "      <td>55038</td>\n",
       "      <td>19.99</td>\n",
       "      <td>22</td>\n",
       "      <td>8</td>\n",
       "      <td>7.0</td>\n",
       "      <td>4</td>\n",
       "      <td>...</td>\n",
       "      <td>0</td>\n",
       "      <td>0</td>\n",
       "      <td>0</td>\n",
       "      <td>0.0</td>\n",
       "      <td>21189.0</td>\n",
       "      <td>60</td>\n",
       "      <td>10.49</td>\n",
       "      <td>455</td>\n",
       "      <td>6</td>\n",
       "      <td>1</td>\n",
       "    </tr>\n",
       "    <tr>\n",
       "      <th>2</th>\n",
       "      <td>1875016</td>\n",
       "      <td>2491679</td>\n",
       "      <td>0.5</td>\n",
       "      <td>0</td>\n",
       "      <td>56610</td>\n",
       "      <td>14.33</td>\n",
       "      <td>5</td>\n",
       "      <td>8</td>\n",
       "      <td>5.0</td>\n",
       "      <td>5</td>\n",
       "      <td>...</td>\n",
       "      <td>1</td>\n",
       "      <td>1</td>\n",
       "      <td>0</td>\n",
       "      <td>0.0</td>\n",
       "      <td>29908.0</td>\n",
       "      <td>60</td>\n",
       "      <td>9.11</td>\n",
       "      <td>622</td>\n",
       "      <td>5</td>\n",
       "      <td>1</td>\n",
       "    </tr>\n",
       "    <tr>\n",
       "      <th>3</th>\n",
       "      <td>1440478</td>\n",
       "      <td>2092798</td>\n",
       "      <td>8.0</td>\n",
       "      <td>2</td>\n",
       "      <td>54887</td>\n",
       "      <td>14.80</td>\n",
       "      <td>12</td>\n",
       "      <td>14</td>\n",
       "      <td>7.0</td>\n",
       "      <td>3</td>\n",
       "      <td>...</td>\n",
       "      <td>0</td>\n",
       "      <td>0</td>\n",
       "      <td>3</td>\n",
       "      <td>0.0</td>\n",
       "      <td>13053.0</td>\n",
       "      <td>48</td>\n",
       "      <td>11.89</td>\n",
       "      <td>343</td>\n",
       "      <td>6</td>\n",
       "      <td>1</td>\n",
       "    </tr>\n",
       "    <tr>\n",
       "      <th>4</th>\n",
       "      <td>1124634</td>\n",
       "      <td>2633077</td>\n",
       "      <td>3.0</td>\n",
       "      <td>0</td>\n",
       "      <td>53522</td>\n",
       "      <td>10.14</td>\n",
       "      <td>4</td>\n",
       "      <td>21</td>\n",
       "      <td>19.0</td>\n",
       "      <td>10</td>\n",
       "      <td>...</td>\n",
       "      <td>14</td>\n",
       "      <td>7</td>\n",
       "      <td>1</td>\n",
       "      <td>0.0</td>\n",
       "      <td>24613.0</td>\n",
       "      <td>60</td>\n",
       "      <td>15.13</td>\n",
       "      <td>587</td>\n",
       "      <td>3</td>\n",
       "      <td>1</td>\n",
       "    </tr>\n",
       "  </tbody>\n",
       "</table>\n",
       "<p>5 rows × 23 columns</p>\n",
       "</div>"
      ],
      "text/plain": [
       "    loanId  memberId  yearsEmployment  homeOwnership  annualIncome  dtiRatio  \\\n",
       "0  1888978   2305095             12.0              0         56471     16.80   \n",
       "1  1299695   2610493              3.0              0         55038     19.99   \n",
       "2  1875016   2491679              0.5              0         56610     14.33   \n",
       "3  1440478   2092798              8.0              2         54887     14.80   \n",
       "4  1124634   2633077              3.0              0         53522     10.14   \n",
       "\n",
       "   lengthCreditHistory  numTotalCreditLines  numOpenCreditLines  \\\n",
       "0                    6                   11                 9.0   \n",
       "1                   22                    8                 7.0   \n",
       "2                    5                    8                 5.0   \n",
       "3                   12                   14                 7.0   \n",
       "4                    4                   21                19.0   \n",
       "\n",
       "   numOpenCreditLines1Year     ...      numDelinquency2Years  \\\n",
       "0                        6     ...                        19   \n",
       "1                        4     ...                         0   \n",
       "2                        5     ...                         1   \n",
       "3                        3     ...                         0   \n",
       "4                       10     ...                        14   \n",
       "\n",
       "   numChargeoff1year  numInquiries6Mon  isJointApplication  loanAmount  term  \\\n",
       "0                 10                 0                 0.0     25190.0    60   \n",
       "1                  0                 0                 0.0     21189.0    60   \n",
       "2                  1                 0                 0.0     29908.0    60   \n",
       "3                  0                 3                 0.0     13053.0    48   \n",
       "4                  7                 1                 0.0     24613.0    60   \n",
       "\n",
       "   interestRate  monthlyPayment  grade  loanStatus  \n",
       "0          6.25             490     15           1  \n",
       "1         10.49             455      6           1  \n",
       "2          9.11             622      5           1  \n",
       "3         11.89             343      6           1  \n",
       "4         15.13             587      3           1  \n",
       "\n",
       "[5 rows x 23 columns]"
      ]
     },
     "execution_count": 2,
     "metadata": {},
     "output_type": "execute_result"
    }
   ],
   "source": [
    "dataset_df = pd.read_csv('data/loan_cleaned_balanced_over_sampling.csv').set_index(['loanId', 'memberId'])\n",
    "dataset_df.head()"
   ]
  },
  {
   "cell_type": "code",
   "execution_count": 3,
   "metadata": {
    "collapsed": true
   },
   "outputs": [],
   "source": [
    "train_size = round(0.7 * len(dataset_df))\n",
    "dataset_np = dataset_df.values\n",
    "np.random.shuffle(dataset_np)\n",
    "train_np, test_np = dataset_np[:train_size,:], dataset_np[train_size:,:]\n",
    "\n",
    "X_train = train_np[:, :-1]\n",
    "y_train = train_np[:, len(train_np[0]) - 1]\n",
    "\n",
    "X_test = test_np[:, :-1]\n",
    "y_test = test_np[:, len(train_np[0]) - 1]"
   ]
  },
  {
   "cell_type": "code",
   "execution_count": 4,
   "metadata": {},
   "outputs": [
    {
     "data": {
      "text/plain": [
       "DecisionTreeClassifier(class_weight=None, criterion='gini', max_depth=20,\n",
       "            max_features=None, max_leaf_nodes=None,\n",
       "            min_impurity_decrease=0.0, min_impurity_split=None,\n",
       "            min_samples_leaf=1, min_samples_split=2,\n",
       "            min_weight_fraction_leaf=0.0, presort=False, random_state=None,\n",
       "            splitter='best')"
      ]
     },
     "execution_count": 4,
     "metadata": {},
     "output_type": "execute_result"
    }
   ],
   "source": [
    "clf = DecisionTreeClassifier(max_depth=20)\n",
    "clf.fit(X_train, y_train)"
   ]
  },
  {
   "cell_type": "code",
   "execution_count": 5,
   "metadata": {},
   "outputs": [
    {
     "name": "stdout",
     "output_type": "stream",
     "text": [
      "Akurasi dengn class balancing over sampling:  94.61849121706399 %\n"
     ]
    }
   ],
   "source": [
    "y_pred = clf.predict(X_test)\n",
    "accuracy = accuracy_score(y_test, y_pred)*100\n",
    "print(\"Akurasi dengn class balancing over sampling: \", accuracy,\"%\")"
   ]
  },
  {
   "cell_type": "code",
   "execution_count": 6,
   "metadata": {},
   "outputs": [
    {
     "name": "stdout",
     "output_type": "stream",
     "text": [
      "True Positive  =  24467\n",
      "True Negative  =  23796\n",
      "False Positive =  208\n",
      "False Negative =  2537\n",
      "F1 Score =  0.9468836471293949\n"
     ]
    }
   ],
   "source": [
    "tn, fp, fn, tp = confusion_matrix(y_test, y_pred).ravel()\n",
    "f1 = f1_score(y_test, y_pred)\n",
    "print('True Positive  = ', tp)\n",
    "print('True Negative  = ', tn)\n",
    "print('False Positive = ', fp)\n",
    "print('False Negative = ', fn)\n",
    "print('F1 Score = ', f1)"
   ]
  },
  {
   "cell_type": "code",
   "execution_count": 7,
   "metadata": {},
   "outputs": [],
   "source": [
    "depth_range = range(2, 51)\n",
    "f1_scores = []\n",
    "accuracy_scores = []\n",
    "\n",
    "for d in depth_range:\n",
    "    clf = DecisionTreeClassifier(max_depth=d)\n",
    "    clf.fit(X_train, y_train)\n",
    "    y_pred = clf.predict(X_test)\n",
    "    \n",
    "    accuracy = accuracy_score(y_test, y_pred)\n",
    "    f1 = f1_score(y_test, y_pred)\n",
    "    \n",
    "    f1_scores.append(f1)\n",
    "    accuracy_scores.append(accuracy)"
   ]
  },
  {
   "cell_type": "code",
   "execution_count": 8,
   "metadata": {},
   "outputs": [
    {
     "name": "stdout",
     "output_type": "stream",
     "text": [
      "F1 Max = 0.9590825864893514 at Max Depth = 44\n",
      "Accuracy Max = 0.9583790777917189 at Max Depth = 44\n"
     ]
    }
   ],
   "source": [
    "f1_max = max(f1_scores)\n",
    "f1_max_idx = f1_scores.index(f1_max)\n",
    "\n",
    "acc_max = max(accuracy_scores)\n",
    "acc_max_idx = accuracy_scores.index(acc_max)\n",
    "\n",
    "print('F1 Max = {} at Max Depth = {}'.format(f1_max, f1_max_idx+2))\n",
    "print('Accuracy Max = {} at Max Depth = {}'.format(acc_max, acc_max_idx+2))"
   ]
  },
  {
   "cell_type": "code",
   "execution_count": 9,
   "metadata": {},
   "outputs": [
    {
     "data": {
      "image/png": "[encoded data removed]",
      "text/plain": [
       "<matplotlib.figure.Figure at 0x1084fbeb8>"
      ]
     },
     "metadata": {},
     "output_type": "display_data"
    }
   ],
   "source": [
    "plt.plot(depth_range, accuracy_scores)\n",
    "plt.xlabel('Max Depth')\n",
    "plt.ylabel('Accuracy')\n",
    "plt.grid(True)\n",
    "plt.show()"
   ]
  },
  {
   "cell_type": "code",
   "execution_count": 10,
   "metadata": {},
   "outputs": [
    {
     "data": {
      "image/png": "[encoded data removed]",
      "text/plain": [
       "<matplotlib.figure.Figure at 0x1084fb6d8>"
      ]
     },
     "metadata": {},
     "output_type": "display_data"
    }
   ],
   "source": [
    "plt.plot(depth_range, f1_scores)\n",
    "plt.xlabel('Max Depth')\n",
    "plt.ylabel('F1 Score')\n",
    "plt.grid(True)\n",
    "plt.show()"
   ]
  },
  {
   "cell_type": "code",
   "execution_count": null,
   "metadata": {
    "collapsed": true
   },
   "outputs": [],
   "source": []
  }
 ],
 "metadata": {
  "kernelspec": {
   "display_name": "Python 3",
   "language": "python",
   "name": "python3"
  },
  "language_info": {
   "codemirror_mode": {
    "name": "ipython",
    "version": 3
   },
   "file_extension": ".py",
   "mimetype": "text/x-python",
   "name": "python",
   "nbconvert_exporter": "python",
   "pygments_lexer": "ipython3",
   "version": "3.6.5"
  }
 },
 "nbformat": 4,
 "nbformat_minor": 2
}
